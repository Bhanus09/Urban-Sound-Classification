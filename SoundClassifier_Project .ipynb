{
  "nbformat": 4,
  "nbformat_minor": 0,
  "metadata": {
    "kernelspec": {
      "display_name": "Python 3",
      "language": "python",
      "name": "python3"
    },
    "language_info": {
      "codemirror_mode": {
        "name": "ipython",
        "version": 3
      },
      "file_extension": ".py",
      "mimetype": "text/x-python",
      "name": "python",
      "nbconvert_exporter": "python",
      "pygments_lexer": "ipython3",
      "version": "3.7.1"
    },
    "colab": {
      "name": "SoundClassifier_Project.ipynb",
      "provenance": []
    }
  },
  "cells": [
    {
      "cell_type": "code",
      "metadata": {
        "id": "yN1ZjRnC2nWb",
        "colab_type": "code",
        "colab": {}
      },
      "source": [
        "import keras\n",
        "from keras.layers import Activation, Dense, Dropout, Conv2D, \\\n",
        "                         Flatten, MaxPooling2D\n",
        "from keras.models import Sequential\n",
        "import librosa\n",
        "import librosa.display\n",
        "import numpy as np\n",
        "import pandas as pd\n",
        "import matplotlib.pyplot as plt\n",
        "import random\n",
        "from sklearn.metrics import classification_report, confusion_matrix\n",
        "\n",
        "import warnings\n",
        "warnings.filterwarnings('ignore')"
      ],
      "execution_count": 0,
      "outputs": []
    },
    {
      "cell_type": "code",
      "metadata": {
        "id": "F4iLSUza2nWp",
        "colab_type": "code",
        "colab": {},
        "outputId": "6c4fb79f-61b8-4002-d549-9c00806acf63"
      },
      "source": [
        "# Read Data\n",
        "data = pd.read_csv(r'UrbanSound8K\\UrbanSound8K\\metadata\\UrbanSound8K.csv')\n",
        "data.head(5)"
      ],
      "execution_count": 0,
      "outputs": [
        {
          "output_type": "execute_result",
          "data": {
            "text/html": [
              "<div>\n",
              "<style scoped>\n",
              "    .dataframe tbody tr th:only-of-type {\n",
              "        vertical-align: middle;\n",
              "    }\n",
              "\n",
              "    .dataframe tbody tr th {\n",
              "        vertical-align: top;\n",
              "    }\n",
              "\n",
              "    .dataframe thead th {\n",
              "        text-align: right;\n",
              "    }\n",
              "</style>\n",
              "<table border=\"1\" class=\"dataframe\">\n",
              "  <thead>\n",
              "    <tr style=\"text-align: right;\">\n",
              "      <th></th>\n",
              "      <th>slice_file_name</th>\n",
              "      <th>fsID</th>\n",
              "      <th>start</th>\n",
              "      <th>end</th>\n",
              "      <th>salience</th>\n",
              "      <th>fold</th>\n",
              "      <th>classID</th>\n",
              "      <th>class</th>\n",
              "    </tr>\n",
              "  </thead>\n",
              "  <tbody>\n",
              "    <tr>\n",
              "      <th>0</th>\n",
              "      <td>100032-3-0-0.wav</td>\n",
              "      <td>100032</td>\n",
              "      <td>0.0</td>\n",
              "      <td>0.317551</td>\n",
              "      <td>1</td>\n",
              "      <td>5</td>\n",
              "      <td>3</td>\n",
              "      <td>dog_bark</td>\n",
              "    </tr>\n",
              "    <tr>\n",
              "      <th>1</th>\n",
              "      <td>100263-2-0-117.wav</td>\n",
              "      <td>100263</td>\n",
              "      <td>58.5</td>\n",
              "      <td>62.500000</td>\n",
              "      <td>1</td>\n",
              "      <td>5</td>\n",
              "      <td>2</td>\n",
              "      <td>children_playing</td>\n",
              "    </tr>\n",
              "    <tr>\n",
              "      <th>2</th>\n",
              "      <td>100263-2-0-121.wav</td>\n",
              "      <td>100263</td>\n",
              "      <td>60.5</td>\n",
              "      <td>64.500000</td>\n",
              "      <td>1</td>\n",
              "      <td>5</td>\n",
              "      <td>2</td>\n",
              "      <td>children_playing</td>\n",
              "    </tr>\n",
              "    <tr>\n",
              "      <th>3</th>\n",
              "      <td>100263-2-0-126.wav</td>\n",
              "      <td>100263</td>\n",
              "      <td>63.0</td>\n",
              "      <td>67.000000</td>\n",
              "      <td>1</td>\n",
              "      <td>5</td>\n",
              "      <td>2</td>\n",
              "      <td>children_playing</td>\n",
              "    </tr>\n",
              "    <tr>\n",
              "      <th>4</th>\n",
              "      <td>100263-2-0-137.wav</td>\n",
              "      <td>100263</td>\n",
              "      <td>68.5</td>\n",
              "      <td>72.500000</td>\n",
              "      <td>1</td>\n",
              "      <td>5</td>\n",
              "      <td>2</td>\n",
              "      <td>children_playing</td>\n",
              "    </tr>\n",
              "  </tbody>\n",
              "</table>\n",
              "</div>"
            ],
            "text/plain": [
              "      slice_file_name    fsID  start        end  salience  fold  classID  \\\n",
              "0    100032-3-0-0.wav  100032    0.0   0.317551         1     5        3   \n",
              "1  100263-2-0-117.wav  100263   58.5  62.500000         1     5        2   \n",
              "2  100263-2-0-121.wav  100263   60.5  64.500000         1     5        2   \n",
              "3  100263-2-0-126.wav  100263   63.0  67.000000         1     5        2   \n",
              "4  100263-2-0-137.wav  100263   68.5  72.500000         1     5        2   \n",
              "\n",
              "              class  \n",
              "0          dog_bark  \n",
              "1  children_playing  \n",
              "2  children_playing  \n",
              "3  children_playing  \n",
              "4  children_playing  "
            ]
          },
          "metadata": {
            "tags": []
          },
          "execution_count": 2
        }
      ]
    },
    {
      "cell_type": "code",
      "metadata": {
        "id": "Mm1XKkO-2nW0",
        "colab_type": "code",
        "colab": {}
      },
      "source": [
        ""
      ],
      "execution_count": 0,
      "outputs": []
    },
    {
      "cell_type": "code",
      "metadata": {
        "scrolled": true,
        "id": "vglSH5ZA2nW7",
        "colab_type": "code",
        "colab": {},
        "outputId": "e729e1c3-ae4f-4e69-9aea-bc7f8bbb9be4"
      },
      "source": [
        "data.shape"
      ],
      "execution_count": 0,
      "outputs": [
        {
          "output_type": "execute_result",
          "data": {
            "text/plain": [
              "(8732, 8)"
            ]
          },
          "metadata": {
            "tags": []
          },
          "execution_count": 27
        }
      ]
    },
    {
      "cell_type": "code",
      "metadata": {
        "id": "Ac3ORrjf2nXD",
        "colab_type": "code",
        "colab": {},
        "outputId": "1241bccf-7cc8-4bd9-f8ca-fbd2bc9bb4e4"
      },
      "source": [
        "# Get data over 3 seconds long\n",
        "valid_data = data[['slice_file_name', 'fold' ,'classID', 'class']][ data['end']-data['start'] >= 3 ]\n",
        "valid_data.shape"
      ],
      "execution_count": 0,
      "outputs": [
        {
          "output_type": "execute_result",
          "data": {
            "text/plain": [
              "(7468, 4)"
            ]
          },
          "metadata": {
            "tags": []
          },
          "execution_count": 4
        }
      ]
    },
    {
      "cell_type": "code",
      "metadata": {
        "id": "aCIrAsot2nXL",
        "colab_type": "code",
        "colab": {},
        "outputId": "34b48899-150c-4add-ee44-90ce61e68747"
      },
      "source": [
        "# Example of a Siren spectrogram\n",
        "y, sr = librosa.load(r'UrbanSound8K\\UrbanSound8K\\audio\\fold6\\135160-8-0-0.wav', duration=2.97)\n",
        "ps = librosa.feature.melspectrogram(y=y, sr=sr)\n",
        "ps.shape"
      ],
      "execution_count": 0,
      "outputs": [
        {
          "output_type": "execute_result",
          "data": {
            "text/plain": [
              "(128, 128)"
            ]
          },
          "metadata": {
            "tags": []
          },
          "execution_count": 5
        }
      ]
    },
    {
      "cell_type": "code",
      "metadata": {
        "id": "IPTg39l02nXT",
        "colab_type": "code",
        "colab": {},
        "outputId": "3a389d89-2c50-4b25-c8c6-99bf1afb5215"
      },
      "source": [
        "librosa.display.specshow(ps, y_axis='mel', x_axis='time')\n"
      ],
      "execution_count": 0,
      "outputs": [
        {
          "output_type": "execute_result",
          "data": {
            "text/plain": [
              "<matplotlib.axes._subplots.AxesSubplot at 0x2f528576ac8>"
            ]
          },
          "metadata": {
            "tags": []
          },
          "execution_count": 9
        },
        {
          "output_type": "display_data",
          "data": {
            "image/png": "[encoded data removed]",
            "text/plain": [
              "<Figure size 432x288 with 1 Axes>"
            ]
          },
          "metadata": {
            "tags": [],
            "needs_background": "light"
          }
        }
      ]
    },
    {
      "cell_type": "code",
      "metadata": {
        "id": "HxBfTk9n2nXZ",
        "colab_type": "code",
        "colab": {},
        "outputId": "5fdd3a03-2b51-44f4-98c5-11d805d082c6"
      },
      "source": [
        "\n",
        "# Example of a AC spectrogram\n",
        "y, sr = librosa.load(r'UrbanSound8K\\UrbanSound8K\\audio\\fold1\\134717-0-0-19.wav', duration=2.97)\n",
        "ps = librosa.feature.melspectrogram(y=y, sr=sr)\n",
        "ps.shape"
      ],
      "execution_count": 0,
      "outputs": [
        {
          "output_type": "execute_result",
          "data": {
            "text/plain": [
              "(128, 128)"
            ]
          },
          "metadata": {
            "tags": []
          },
          "execution_count": 10
        }
      ]
    },
    {
      "cell_type": "code",
      "metadata": {
        "id": "-aIegekl2nXd",
        "colab_type": "code",
        "colab": {},
        "outputId": "6dcfcab0-824e-4204-83d4-02a7581bd5db"
      },
      "source": [
        "librosa.display.specshow(ps, y_axis='mel', x_axis='time')"
      ],
      "execution_count": 0,
      "outputs": [
        {
          "output_type": "execute_result",
          "data": {
            "text/plain": [
              "<matplotlib.axes._subplots.AxesSubplot at 0x2f5285e8828>"
            ]
          },
          "metadata": {
            "tags": []
          },
          "execution_count": 11
        },
        {
          "output_type": "display_data",
          "data": {
            "image/png": "[encoded data removed]",
            "text/plain": [
              "<Figure size 432x288 with 1 Axes>"
            ]
          },
          "metadata": {
            "tags": [],
            "needs_background": "light"
          }
        }
      ]
    },
    {
      "cell_type": "code",
      "metadata": {
        "id": "GsEnmfr_2nXh",
        "colab_type": "code",
        "colab": {},
        "outputId": "0c960660-3d0d-48e3-bdb3-5b03bd096cca"
      },
      "source": [
        "# Example of a children playing spectrogram\n",
        "y, sr = librosa.load(r'UrbanSound8K\\UrbanSound8K\\audio\\fold9\\13579-2-0-16.wav', duration=2.97)\n",
        "ps = librosa.feature.melspectrogram(y=y, sr=sr)\n",
        "ps.shape"
      ],
      "execution_count": 0,
      "outputs": [
        {
          "output_type": "execute_result",
          "data": {
            "text/plain": [
              "(128, 128)"
            ]
          },
          "metadata": {
            "tags": []
          },
          "execution_count": 12
        }
      ]
    },
    {
      "cell_type": "code",
      "metadata": {
        "id": "YDGJPFPq2nXk",
        "colab_type": "code",
        "colab": {},
        "outputId": "4310ed44-1073-463e-b3ba-74960e4a0969"
      },
      "source": [
        "librosa.display.specshow(ps, y_axis='mel', x_axis='time')"
      ],
      "execution_count": 0,
      "outputs": [
        {
          "output_type": "execute_result",
          "data": {
            "text/plain": [
              "<matplotlib.axes._subplots.AxesSubplot at 0x2f5284fd240>"
            ]
          },
          "metadata": {
            "tags": []
          },
          "execution_count": 13
        },
        {
          "output_type": "display_data",
          "data": {
            "image/png": "[encoded data removed]",
            "text/plain": [
              "<Figure size 432x288 with 1 Axes>"
            ]
          },
          "metadata": {
            "tags": [],
            "needs_background": "light"
          }
        }
      ]
    },
    {
      "cell_type": "code",
      "metadata": {
        "id": "Ax0mok8A2nXn",
        "colab_type": "code",
        "colab": {},
        "outputId": "2b3c2178-c1cc-4b47-fd81-2d5b5ba8cd66"
      },
      "source": [
        "# Example of a drilling spectrogram\n",
        "y, sr = librosa.load(r'UrbanSound8K\\UrbanSound8K\\audio\\fold9\\137815-4-0-0.wav', duration=2.97)\n",
        "ps = librosa.feature.melspectrogram(y=y, sr=sr)\n",
        "ps.shape"
      ],
      "execution_count": 0,
      "outputs": [
        {
          "output_type": "execute_result",
          "data": {
            "text/plain": [
              "(128, 128)"
            ]
          },
          "metadata": {
            "tags": []
          },
          "execution_count": 14
        }
      ]
    },
    {
      "cell_type": "code",
      "metadata": {
        "id": "OufBAdrP2nXr",
        "colab_type": "code",
        "colab": {},
        "outputId": "b4f5b2d2-21ab-4b8a-d164-746e158e3590"
      },
      "source": [
        "librosa.display.specshow(ps, y_axis='mel', x_axis='time')"
      ],
      "execution_count": 0,
      "outputs": [
        {
          "output_type": "execute_result",
          "data": {
            "text/plain": [
              "<matplotlib.axes._subplots.AxesSubplot at 0x2f5286c1a58>"
            ]
          },
          "metadata": {
            "tags": []
          },
          "execution_count": 15
        },
        {
          "output_type": "display_data",
          "data": {
            "image/png": "[encoded data removed]",
            "text/plain": [
              "<Figure size 432x288 with 1 Axes>"
            ]
          },
          "metadata": {
            "tags": [],
            "needs_background": "light"
          }
        }
      ]
    },
    {
      "cell_type": "code",
      "metadata": {
        "id": "nRhmBjYN2nXv",
        "colab_type": "code",
        "colab": {}
      },
      "source": [
        "valid_data['path'] = 'fold' + valid_data['fold'].astype('str') + '/' + valid_data['slice_file_name'].astype('str')"
      ],
      "execution_count": 0,
      "outputs": []
    },
    {
      "cell_type": "code",
      "metadata": {
        "id": "jsORnzpX2nXx",
        "colab_type": "code",
        "colab": {}
      },
      "source": [
        "D = [] # Dataset\n",
        "\n",
        "for row in valid_data.itertuples():\n",
        "    y, sr = librosa.load('UrbanSound8K/UrbanSound8K/audio/' + row.path, duration=2.97)  \n",
        "    ps = librosa.feature.melspectrogram(y=y, sr=sr)\n",
        "    if ps.shape != (128, 128): continue\n",
        "    D.append( (ps, row.classID) )"
      ],
      "execution_count": 0,
      "outputs": []
    },
    {
      "cell_type": "code",
      "metadata": {
        "id": "f1TReohn2nX0",
        "colab_type": "code",
        "colab": {},
        "outputId": "f58ec2bc-febc-41e6-a300-484a87c446e4"
      },
      "source": [
        "print(\"Number of samples: \", len(D))"
      ],
      "execution_count": 0,
      "outputs": [
        {
          "output_type": "stream",
          "text": [
            "Number of samples:  7467\n"
          ],
          "name": "stdout"
        }
      ]
    },
    {
      "cell_type": "code",
      "metadata": {
        "id": "bpSJQGsY2nX3",
        "colab_type": "code",
        "colab": {}
      },
      "source": [
        "dataset = D\n",
        "random.shuffle(dataset)\n",
        "\n",
        "train = dataset[:7000]\n",
        "test = dataset[7000:]\n",
        "\n",
        "X_train, y_train = zip(*train)\n",
        "X_test, y_test = zip(*test)\n",
        "\n",
        "# Reshape for CNN input\n",
        "X_train = np.array([x.reshape( (128, 128, 1) ) for x in X_train])\n",
        "X_test = np.array([x.reshape( (128, 128, 1) ) for x in X_test])\n",
        "\n",
        "# One-Hot encoding for classes\n",
        "y_train = np.array(keras.utils.to_categorical(y_train, 10))\n",
        "y_test = np.array(keras.utils.to_categorical(y_test, 10))"
      ],
      "execution_count": 0,
      "outputs": []
    },
    {
      "cell_type": "code",
      "metadata": {
        "id": "Jyh9d06F2nX6",
        "colab_type": "code",
        "colab": {}
      },
      "source": [
        "model = Sequential()\n",
        "input_shape=(128, 128, 1)\n",
        "\n",
        "model.add(Conv2D(24, (5, 5), strides=(1, 1), input_shape=input_shape))\n",
        "model.add(MaxPooling2D((4, 2), strides=(4, 2)))\n",
        "model.add(Activation('relu'))\n",
        "\n",
        "model.add(Conv2D(48, (5, 5), padding=\"valid\"))\n",
        "model.add(MaxPooling2D((4, 2), strides=(4, 2)))\n",
        "model.add(Activation('relu'))\n",
        "\n",
        "model.add(Conv2D(48, (5, 5), padding=\"valid\"))\n",
        "model.add(Activation('relu'))\n",
        "\n",
        "model.add(Flatten())\n",
        "model.add(Dropout(rate=0.2))\n",
        "\n",
        "model.add(Dense(64))\n",
        "model.add(Activation('relu'))\n",
        "model.add(Dropout(rate=0.2))\n",
        "\n",
        "model.add(Dense(10))\n",
        "model.add(Activation('softmax'))"
      ],
      "execution_count": 0,
      "outputs": []
    },
    {
      "cell_type": "code",
      "metadata": {
        "scrolled": false,
        "id": "cYOhOtxX2nX9",
        "colab_type": "code",
        "colab": {},
        "outputId": "c080ffca-8ec1-4c87-bb9e-945b13bae288"
      },
      "source": [
        "model.compile(\n",
        "\toptimizer=\"Adam\",\n",
        "\tloss=\"categorical_crossentropy\",\n",
        "\tmetrics=['accuracy'])\n",
        "\n",
        "model.fit(\n",
        "\tx=X_train, \n",
        "\ty=y_train,\n",
        "    epochs=12,\n",
        "    batch_size=128,\n",
        "    validation_data= (X_test, y_test))\n",
        "\n",
        "score = model.evaluate(\n",
        "\tx=X_test,\n",
        "\ty=y_test)\n",
        "\n",
        "print('Test loss:', score[0])\n",
        "print('Test accuracy:', score[1])"
      ],
      "execution_count": 0,
      "outputs": [
        {
          "output_type": "stream",
          "text": [
            "Train on 7000 samples, validate on 467 samples\n",
            "Epoch 1/12\n",
            "7000/7000 [==============================] - 81s 12ms/step - loss: 1.1297 - acc: 0.6143 - val_loss: 1.2146 - val_acc: 0.5824\n",
            "Epoch 2/12\n",
            "7000/7000 [==============================] - 77s 11ms/step - loss: 1.0271 - acc: 0.6551 - val_loss: 1.0675 - val_acc: 0.6467\n",
            "Epoch 3/12\n",
            "7000/7000 [==============================] - 77s 11ms/step - loss: 0.9024 - acc: 0.6919 - val_loss: 1.0574 - val_acc: 0.6424\n",
            "Epoch 4/12\n",
            "7000/7000 [==============================] - 76s 11ms/step - loss: 0.8556 - acc: 0.7136 - val_loss: 1.0160 - val_acc: 0.6852\n",
            "Epoch 5/12\n",
            "7000/7000 [==============================] - 74s 11ms/step - loss: 0.8955 - acc: 0.7204 - val_loss: 1.0368 - val_acc: 0.6745\n",
            "Epoch 6/12\n",
            "7000/7000 [==============================] - 76s 11ms/step - loss: 0.8185 - acc: 0.7320 - val_loss: 1.0649 - val_acc: 0.6938\n",
            "Epoch 7/12\n",
            "7000/7000 [==============================] - 74s 11ms/step - loss: 0.7124 - acc: 0.7633 - val_loss: 1.0177 - val_acc: 0.6874\n",
            "Epoch 8/12\n",
            "7000/7000 [==============================] - 78s 11ms/step - loss: 0.6976 - acc: 0.7801 - val_loss: 1.0089 - val_acc: 0.7088\n",
            "Epoch 9/12\n",
            "7000/7000 [==============================] - 82s 12ms/step - loss: 0.6776 - acc: 0.7790 - val_loss: 1.0391 - val_acc: 0.6981\n",
            "Epoch 10/12\n",
            "7000/7000 [==============================] - 79s 11ms/step - loss: 0.6570 - acc: 0.7946 - val_loss: 0.8356 - val_acc: 0.7452\n",
            "Epoch 11/12\n",
            "7000/7000 [==============================] - 84s 12ms/step - loss: 0.6162 - acc: 0.8017 - val_loss: 0.9578 - val_acc: 0.7302\n",
            "Epoch 12/12\n",
            "7000/7000 [==============================] - 83s 12ms/step - loss: 0.5608 - acc: 0.8181 - val_loss: 0.8995 - val_acc: 0.7537\n",
            "467/467 [==============================] - 2s 3ms/step\n",
            "Test loss: 0.8994672607303431\n",
            "Test accuracy: 0.7537473229575719\n"
          ],
          "name": "stdout"
        }
      ]
    },
    {
      "cell_type": "code",
      "metadata": {
        "id": "5VkG70kQ2nYA",
        "colab_type": "code",
        "colab": {},
        "outputId": "5b550042-d32a-4261-d7ad-1763e5540c27"
      },
      "source": [
        "score = model.evaluate(X_train, y_train, verbose=0)\n",
        "print(\"Training Accuracy: \", score[1])"
      ],
      "execution_count": 0,
      "outputs": [
        {
          "output_type": "stream",
          "text": [
            "Training Accuracy:  0.857571428503309\n"
          ],
          "name": "stdout"
        }
      ]
    },
    {
      "cell_type": "code",
      "metadata": {
        "id": "RHpESgzf2nYE",
        "colab_type": "code",
        "colab": {},
        "outputId": "94da7b18-e3c2-43d8-cfe1-d09caf6c5e8d"
      },
      "source": [
        "import seaborn as sns\n",
        "y_pred = model.predict(X_test)\n",
        "cm =confusion_matrix(y_test.argmax(axis=1), y_pred.argmax(axis=1))\n",
        "cm_df = pd.DataFrame(cm,\n",
        "                     index = ['air_conditioner','car_horn','children_playing','dog_bark','drilling','engine_idling','gun_shot','jackhammer','siren','street_music'], \n",
        "                     columns = ['air_conditioner','car_horn','children_playing','dog_bark','drilling','engine_idling','gun_shot','jackhammer','siren','street_music'])\n",
        "\n",
        "plt.figure(figsize=(8,6))\n",
        "sns.heatmap(cm_df, annot=True)\n",
        "plt.ylabel('True label')\n",
        "plt.xlabel('Predicted label')\n",
        "plt.show()"
      ],
      "execution_count": 0,
      "outputs": [
        {
          "output_type": "display_data",
          "data": {
            "image/png": "[encoded data removed]",
            "text/plain": [
              "<Figure size 576x432 with 2 Axes>"
            ]
          },
          "metadata": {
            "tags": [],
            "needs_background": "light"
          }
        }
      ]
    },
    {
      "cell_type": "markdown",
      "metadata": {
        "id": "9kwffswW2nYI",
        "colab_type": "text"
      },
      "source": [
        "##  Implementation of Data Augmentation Techniques \n"
      ]
    },
    {
      "cell_type": "markdown",
      "metadata": {
        "id": "S2fPavpy2nYJ",
        "colab_type": "text"
      },
      "source": [
        "### 1.Time Stretching (TS)"
      ]
    },
    {
      "cell_type": "code",
      "metadata": {
        "id": "rFP4vzpS2nYM",
        "colab_type": "code",
        "colab": {}
      },
      "source": [
        "y, sr = librosa.load('UrbanSound8K/UrbanSound8K/audio/fold1/14113-4-0-1.wav', duration=2.97)\n",
        "y_changed = librosa.effects.time_stretch(y, rate=0.81)\n",
        "librosa.output.write_wav('UrbanSound8K\\\\UrbanSound8K\\\\augmented\\\\fold1\\\\speed_81\\\\14113-4-0-1.wav' ,y_changed, sr)"
      ],
      "execution_count": 0,
      "outputs": []
    },
    {
      "cell_type": "code",
      "metadata": {
        "id": "Ai3vZJRL2nYQ",
        "colab_type": "code",
        "colab": {}
      },
      "source": [
        "rate = 0.81 # replace with 1.07 and execute again\n",
        "\n",
        "for row in valid_data.itertuples():\n",
        "    y, sr = librosa.load('UrbanSound8K/UrbanSound8K/audio/' + row.path)  \n",
        "    y_changed = librosa.effects.time_stretch(y, rate=rate)\n",
        "    librosa.output.write_wav('UrbanSound8K/UrbanSound8K/augmented/fold' + str(row.fold) + '/speed_' + str(int(rate*100)) + '/' + row.slice_file_name ,y_changed, sr)"
      ],
      "execution_count": 0,
      "outputs": []
    },
    {
      "cell_type": "markdown",
      "metadata": {
        "id": "HZgiJrjT2nYS",
        "colab_type": "text"
      },
      "source": [
        "### 2. Pitch Shifting (PS1)"
      ]
    },
    {
      "cell_type": "code",
      "metadata": {
        "id": "OsAinGcy2nYT",
        "colab_type": "code",
        "colab": {}
      },
      "source": [
        "n_steps = 2 #-1, -2, 2, 1\n",
        "\n",
        "for row in valid_data.itertuples():\n",
        "    y, sr = librosa.load('UrbanSound8K/UrbanSound8K/audio/' + row.path)  \n",
        "    y_changed = librosa.effects.pitch_shift(y, sr, n_steps=n_steps)\n",
        "    librosa.output.write_wav('UrbanSound8K/UrbanSound8K/augmented/fold' + str(row.fold) + '/ps1_' + str(int(n_steps)) + '/' + row.slice_file_name ,y_changed, sr)"
      ],
      "execution_count": 0,
      "outputs": []
    },
    {
      "cell_type": "markdown",
      "metadata": {
        "id": "x1CTzM_72nYW",
        "colab_type": "text"
      },
      "source": [
        "### 3. Pitch Shifting (PS2)"
      ]
    },
    {
      "cell_type": "code",
      "metadata": {
        "id": "QhtxGulk2nYX",
        "colab_type": "code",
        "colab": {}
      },
      "source": [
        "n_steps = 2.5 #-2.5, -3.5, 2.5, 3.5\n",
        "\n",
        "for row in valid_data.itertuples():\n",
        "    y, sr = librosa.load('UrbanSound8K/UrbanSound8K/audio/' + row.path)  \n",
        "    y_changed = librosa.effects.pitch_shift(y, sr, n_steps=n_steps)\n",
        "    librosa.output.write_wav('UrbanSound8K/UrbanSound8K/augmented/fold' + str(row.fold) + '/ps2_' + str(int(n_steps*10)) + '/' + row.slice_file_name ,y_changed, sr)"
      ],
      "execution_count": 0,
      "outputs": []
    },
    {
      "cell_type": "code",
      "metadata": {
        "id": "V96W-9aK2nYZ",
        "colab_type": "code",
        "colab": {}
      },
      "source": [
        "len(D)"
      ],
      "execution_count": 0,
      "outputs": []
    },
    {
      "cell_type": "markdown",
      "metadata": {
        "id": "xF2FF6Iu2nYb",
        "colab_type": "text"
      },
      "source": [
        "The dataset consists of:\n",
        "\n",
        "(a) 1-7467 normal samples.\n",
        "(b) 7468-14934 samples Pitch modulated 2.5 semitones higher.\n",
        "(c) 14935-22401 samples Pitch modeulated 2 semitones higher.\n",
        "(d) 22402-29869 samples Slowed down to 0.81.\n",
        "(e) 29869-37310 samples speed up by 1.07\n",
        "\n",
        "Follow the same procedure using this dataset as we did earliar."
      ]
    },
    {
      "cell_type": "code",
      "metadata": {
        "id": "uuewfl6e2nYd",
        "colab_type": "code",
        "colab": {}
      },
      "source": [
        "dataset = D\n",
        "random.shuffle(dataset)\n",
        "\n",
        "train = dataset[:35000]\n",
        "test = dataset[35000:]\n",
        "\n",
        "X_train, y_train = zip(*train)\n",
        "X_test, y_test = zip(*test)\n",
        "\n",
        "X_train = np.array([x.reshape( (128, 128, 1) ) for x in X_train])\n",
        "X_test = np.array([x.reshape( (128, 128, 1) ) for x in X_test])\n",
        "\n",
        "y_train = np.array(keras.utils.to_categorical(y_train, 10))\n",
        "y_test = np.array(keras.utils.to_categorical(y_test, 10))"
      ],
      "execution_count": 0,
      "outputs": []
    },
    {
      "cell_type": "code",
      "metadata": {
        "id": "FW1gLsmP2nYg",
        "colab_type": "code",
        "colab": {}
      },
      "source": [
        "model = Sequential()\n",
        "input_shape=(128, 128, 1)\n",
        "\n",
        "model.add(Conv2D(24, (5, 5), strides=(1, 1), input_shape=input_shape))\n",
        "model.add(MaxPooling2D((4, 2), strides=(4, 2)))\n",
        "model.add(Activation('relu'))\n",
        "\n",
        "model.add(Conv2D(48, (5, 5), padding=\"valid\"))\n",
        "model.add(MaxPooling2D((4, 2), strides=(4, 2)))\n",
        "model.add(Activation('relu'))\n",
        "\n",
        "model.add(Conv2D(48, (5, 5), padding=\"valid\"))\n",
        "model.add(Activation('relu'))\n",
        "\n",
        "model.add(Flatten())\n",
        "model.add(Dropout(rate=0.5))\n",
        "\n",
        "model.add(Dense(64))\n",
        "model.add(Activation('relu'))\n",
        "model.add(Dropout(rate=0.5))\n",
        "\n",
        "model.add(Dense(10))\n",
        "model.add(Activation('softmax'))"
      ],
      "execution_count": 0,
      "outputs": []
    },
    {
      "cell_type": "code",
      "metadata": {
        "id": "Gw7y-Ds22nYi",
        "colab_type": "code",
        "colab": {}
      },
      "source": [
        "model.compile(\n",
        "\toptimizer=\"Adam\",\n",
        "\tloss=\"categorical_crossentropy\",\n",
        "\tmetrics=['accuracy'])\n",
        "\n",
        "model.fit(\n",
        "\tx=X_train, \n",
        "\ty=y_train,\n",
        "    epochs=12,\n",
        "    batch_size=128,\n",
        "    validation_data= (X_test, y_test))\n",
        "\n",
        "score = model.evaluate(\n",
        "\tx=X_test,\n",
        "\ty=y_test)\n",
        "\n",
        "print('Test loss:', score[0])\n",
        "print('Test accuracy:', score[1])"
      ],
      "execution_count": 0,
      "outputs": []
    },
    {
      "cell_type": "code",
      "metadata": {
        "id": "g2p4vuts2nYl",
        "colab_type": "code",
        "colab": {}
      },
      "source": [
        "score = model.evaluate(X_train, y_train, verbose=0)\n",
        "print(\"Training Accuracy: \", score[1])"
      ],
      "execution_count": 0,
      "outputs": []
    },
    {
      "cell_type": "code",
      "metadata": {
        "id": "8sAnL9V_2nYp",
        "colab_type": "code",
        "colab": {}
      },
      "source": [
        "import seaborn as sns\n",
        "y_pred = model.predict(X_test)\n",
        "cm =confusion_matrix(y_test.argmax(axis=1), y_pred.argmax(axis=1))\n",
        "cm_df = pd.DataFrame(cm,\n",
        "                     index = ['air_conditioner','car_horn','children_playing','dog_bark','drilling','engine_idling','gun_shot','jackhammer','siren','street_music'], \n",
        "                     columns = ['air_conditioner','car_horn','children_playing','dog_bark','drilling','engine_idling','gun_shot','jackhammer','siren','street_music'])\n",
        "\n",
        "plt.figure(figsize=(8,6))\n",
        "sns.heatmap(cm_df, annot=True)\n",
        "plt.ylabel('True label')\n",
        "plt.xlabel('Predicted label')\n",
        "plt.show()"
      ],
      "execution_count": 0,
      "outputs": []
    }
  ]
}